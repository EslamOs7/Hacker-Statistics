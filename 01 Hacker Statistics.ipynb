{
 "cells": [
  {
   "cell_type": "code",
   "execution_count": 1,
   "metadata": {},
   "outputs": [],
   "source": [
    "# Import Numpy Lib."
   ]
  },
  {
   "cell_type": "code",
   "execution_count": 2,
   "metadata": {},
   "outputs": [],
   "source": [
    "import numpy as np"
   ]
  },
  {
   "cell_type": "code",
   "execution_count": 3,
   "metadata": {},
   "outputs": [],
   "source": [
    "# import random package | seed will be 123"
   ]
  },
  {
   "cell_type": "code",
   "execution_count": 4,
   "metadata": {},
   "outputs": [
    {
     "data": {
      "text/plain": [
       "0.6964691855978616"
      ]
     },
     "execution_count": 4,
     "metadata": {},
     "output_type": "execute_result"
    }
   ],
   "source": [
    "np.random.seed(123)\n",
    "np.random.rand()"
   ]
  },
  {
   "cell_type": "code",
   "execution_count": 5,
   "metadata": {},
   "outputs": [],
   "source": [
    "#Let's roll the dice assuming we're on step number 50"
   ]
  },
  {
   "cell_type": "code",
   "execution_count": 6,
   "metadata": {},
   "outputs": [],
   "source": [
    "step = 50\n",
    "dice = np.random.randint(1,7)"
   ]
  },
  {
   "cell_type": "code",
   "execution_count": 7,
   "metadata": {},
   "outputs": [],
   "source": [
    "if dice <= 2 :\n",
    "    step = step - 1\n",
    "elif dice > 2 and dice < 6 :\n",
    "    step = step + 1\n",
    "else:\n",
    "    step = step + np.random.randint(1,7)"
   ]
  },
  {
   "cell_type": "code",
   "execution_count": 8,
   "metadata": {},
   "outputs": [],
   "source": [
    "#Now: are we moving backwords or forward?"
   ]
  },
  {
   "cell_type": "code",
   "execution_count": 9,
   "metadata": {},
   "outputs": [
    {
     "name": "stdout",
     "output_type": "stream",
     "text": [
      "3\n",
      "51\n"
     ]
    }
   ],
   "source": [
    "print(dice)\n",
    "print(step)"
   ]
  },
  {
   "cell_type": "markdown",
   "metadata": {},
   "source": [
    "Now that we've seen an example of a random step, let's do the walk (AKA: take all the steps possible in the challenge)"
   ]
  },
  {
   "cell_type": "code",
   "execution_count": 61,
   "metadata": {},
   "outputs": [],
   "source": [
    "#Will start by intializng the walk"
   ]
  },
  {
   "cell_type": "code",
   "execution_count": 62,
   "metadata": {},
   "outputs": [],
   "source": [
    "random_walk = [0]\n",
    "for x in range(100) :\n",
    "    step = random_walk[-1]\n",
    "    dice = np.random.randint(1,7)\n",
    "\n",
    "    if dice <= 2:\n",
    "        step = max(0, step - 1)\n",
    "    elif dice <= 5:\n",
    "        step = step + 1\n",
    "    else:\n",
    "        step = step + np.random.randint(1,7)\n",
    "\n",
    "    random_walk.append(step)"
   ]
  },
  {
   "cell_type": "code",
   "execution_count": 64,
   "metadata": {},
   "outputs": [
    {
     "name": "stdout",
     "output_type": "stream",
     "text": [
      "[0, 0, 6, 5, 4, 5, 6, 5, 4, 3, 2, 3, 9, 10, 13, 14, 20, 21, 22, 28, 27, 33, 32, 33, 34, 35, 34, 40, 41, 40, 41, 40, 41, 40, 41, 40, 41, 45, 46, 48, 47, 48, 47, 46, 47, 46, 47, 46, 50, 54, 53, 52, 51, 52, 53, 57, 58, 59, 63, 62, 61, 60, 61, 62, 64, 63, 62, 63, 64, 66, 69, 74, 75, 74, 75, 76, 77, 78, 79, 78, 79, 80, 86, 85, 90, 89, 93, 92, 96, 95, 98, 99, 98, 99, 105, 104, 103, 102, 106, 105, 104]\n"
     ]
    }
   ],
   "source": [
    "print(random_walk)"
   ]
  },
  {
   "cell_type": "code",
   "execution_count": 65,
   "metadata": {},
   "outputs": [],
   "source": [
    "#Visualization"
   ]
  },
  {
   "cell_type": "code",
   "execution_count": 66,
   "metadata": {},
   "outputs": [],
   "source": [
    "import matplotlib.pyplot as plt"
   ]
  },
  {
   "cell_type": "code",
   "execution_count": 67,
   "metadata": {},
   "outputs": [
    {
     "data": {
      "text/plain": [
       "[<matplotlib.lines.Line2D at 0x7fe261afe8b0>]"
      ]
     },
     "execution_count": 67,
     "metadata": {},
     "output_type": "execute_result"
    },
    {
     "data": {
      "image/png": "[encoded data removed]",
      "text/plain": [
       "<Figure size 432x288 with 1 Axes>"
      ]
     },
     "metadata": {
      "needs_background": "light"
     },
     "output_type": "display_data"
    }
   ],
   "source": [
    "plt.plot(random_walk)"
   ]
  },
  {
   "cell_type": "code",
   "execution_count": 108,
   "metadata": {},
   "outputs": [],
   "source": [
    "# Distrbution"
   ]
  },
  {
   "cell_type": "markdown",
   "metadata": {},
   "source": [
    "What are the chance that we will reach 60 level high?"
   ]
  },
  {
   "cell_type": "markdown",
   "metadata": {},
   "source": [
    "A single random walk is one thing, but that doesn't tell you if you have a good chance at winning the bet."
   ]
  },
  {
   "cell_type": "code",
   "execution_count": 127,
   "metadata": {},
   "outputs": [
    {
     "data": {
      "text/plain": [
       "(array([ 1.,  7., 38., 53., 56., 46., 36.,  9.,  3.,  1.]),\n",
       " array([ 24. ,  35.5,  47. ,  58.5,  70. ,  81.5,  93. , 104.5, 116. ,\n",
       "        127.5, 139. ]),\n",
       " <a list of 10 Patch objects>)"
      ]
     },
     "execution_count": 127,
     "metadata": {},
     "output_type": "execute_result"
    },
    {
     "data": {
      "image/png": "[encoded data removed]",
      "text/plain": [
       "<Figure size 432x288 with 1 Axes>"
      ]
     },
     "metadata": {
      "needs_background": "light"
     },
     "output_type": "display_data"
    }
   ],
   "source": [
    "all_walks = []\n",
    "#Stimulating random walk 500 times !!1\n",
    "for i in range(250):\n",
    "    random_walk = [0]\n",
    "    for x in range (100):\n",
    "        step = random_walk[-1]\n",
    "        dice= np.random.randint(1,7)\n",
    "        \n",
    "        if dice <= 2:\n",
    "            step = max(0, step-1)\n",
    "        elif dice > 2 and dice < 6:\n",
    "            step = step+1\n",
    "        else:\n",
    "            step = step + np.random.randint(1,7)\n",
    "            #Implementing clumsiness\n",
    "        if np.random.randint(1,7)  <= 0.001:\n",
    "            step = 0\n",
    "            \n",
    "        random_walk.append(step)\n",
    "    all_walks.append(random_walk)\n",
    "    \n",
    "#Visualization\n",
    "np_aw = np.array(all_walks)\n",
    "np_aw_t = np.transpose(np_aw)\n",
    "#Choosing the endpoints of the 500 walks that we've simulated\n",
    "endpoints = np_aw_t[-1, :]\n",
    "plt.hist(endpoints)"
   ]
  },
  {
   "cell_type": "code",
   "execution_count": 129,
   "metadata": {},
   "outputs": [
    {
     "data": {
      "text/plain": [
       "0.784"
      ]
     },
     "execution_count": 129,
     "metadata": {},
     "output_type": "execute_result"
    }
   ],
   "source": [
    "#Calcuating the Odds\n",
    "np.mean(endpoints >= 60)"
   ]
  },
  {
   "cell_type": "markdown",
   "metadata": {},
   "source": [
    "So, there's a 78.4% that you're winning the bet."
   ]
  }
 ],
 "metadata": {
  "kernelspec": {
   "display_name": "Python 3",
   "language": "python",
   "name": "python3"
  },
  "language_info": {
   "codemirror_mode": {
    "name": "ipython",
    "version": 3
   },
   "file_extension": ".py",
   "mimetype": "text/x-python",
   "name": "python",
   "nbconvert_exporter": "python",
   "pygments_lexer": "ipython3",
   "version": "3.8.3"
  }
 },
 "nbformat": 4,
 "nbformat_minor": 4
}
